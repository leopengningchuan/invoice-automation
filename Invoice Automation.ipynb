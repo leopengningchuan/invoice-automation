{
 "cells": [
  {
   "cell_type": "code",
   "execution_count": 57,
   "id": "00608f68",
   "metadata": {
    "ExecuteTime": {
     "end_time": "2025-04-29T01:36:33.220079Z",
     "start_time": "2025-04-29T01:36:33.215019Z"
    }
   },
   "outputs": [],
   "source": [
    "import pandas as pd\n",
    "from datetime import datetime\n",
    "import re\n",
    "\n",
    "import os\n",
    "from docx import Document\n",
    "from docx2pdf import convert\n",
    "\n",
    "import warnings\n",
    "warnings.filterwarnings('ignore')"
   ]
  },
  {
   "cell_type": "code",
   "execution_count": 259,
   "id": "75ce6267",
   "metadata": {
    "ExecuteTime": {
     "end_time": "2025-04-29T06:07:57.630862Z",
     "start_time": "2025-04-29T06:07:57.600704Z"
    }
   },
   "outputs": [],
   "source": [
    "\n",
    "inv_info = pd.read_excel(\"inv_info_sample.xlsx\")\n",
    "#rma_data['Row_Number'] = rma_data.groupby('Date').cumcount() + 1\n",
    "#rma_data[rma_data['Inv_No'].isna()]"
   ]
  },
  {
   "cell_type": "code",
   "execution_count": 261,
   "id": "90a377ff",
   "metadata": {
    "ExecuteTime": {
     "end_time": "2025-04-29T06:08:03.993309Z",
     "start_time": "2025-04-29T06:08:03.988122Z"
    }
   },
   "outputs": [],
   "source": [
    "inv_no_list = inv_info['Invoice No.'].unique()\n",
    "inv_no_list"
   ]
  },
  {
   "cell_type": "code",
   "execution_count": 268,
   "id": "2a254640",
   "metadata": {
    "ExecuteTime": {
     "end_time": "2025-04-29T06:10:07.468899Z",
     "start_time": "2025-04-29T06:10:07.459798Z"
    }
   },
   "outputs": [],
   "source": [
    "def get_inv_info(inv_no):\n",
    "    \n",
    "    use_info = inv_info[inv_info['Invoice No.'] == inv_no].reset_index(drop = True)\n",
    "\n",
    "    item_dict = {}\n",
    "    item_dict['CUSTOMER'] = use_info['Customer'].unique()[0]\n",
    "    item_dict['CUSTOMER_ADDRESS1'] = use_info['Customer Address1'].unique()[0]\n",
    "    item_dict['CUSTOMER_ADDRESS2'] = use_info['Customer Address2'].unique()[0]\n",
    "    item_dict['INV_NO'] = use_info['Invoice No.'].unique()[0]\n",
    "    item_dict['PAYMENT_TERMS'] = use_info['Payment Terms'].unique()[0]\n",
    "    \n",
    "    # products information\n",
    "    for i in range(1, 16):\n",
    "        try:\n",
    "            item_dict['ITEM' + str(i)] = use_info.loc[i-1, 'Item']\n",
    "            item_dict['DETAIL' + str(i)] = use_info.loc[i-1, 'Detail']\n",
    "            item_dict['UNITPRICE' + str(i)] = use_info.loc[i-1, 'Unit Price']\n",
    "            item_dict['QUAN' + str(i)] = use_info.loc[i-1, 'Quantity']\n",
    "            item_dict['AMT' + str(i)] = use_info.loc[i-1, 'Unit Price'] * use_info.loc[i-1, 'Quantity']\n",
    "        except:\n",
    "            item_dict['ITEM' + str(i)] = \"\"\n",
    "            item_dict['DETAIL' + str(i)] = \"\"\n",
    "            item_dict['UNITPRICE' + str(i)] = \"\"\n",
    "            item_dict['QUAN' + str(i)] = \"\"\n",
    "            item_dict['AMT' + str(i)] = \"\"\n",
    "            \n",
    "    return item_dict"
   ]
  },
  {
   "cell_type": "code",
   "execution_count": 271,
   "id": "71412f1e",
   "metadata": {
    "ExecuteTime": {
     "end_time": "2025-04-29T06:19:18.996203Z",
     "start_time": "2025-04-29T06:19:18.988913Z"
    }
   },
   "outputs": [],
   "source": [
    "item_dict = get_inv_info('SAMCO_3')"
   ]
  },
  {
   "cell_type": "code",
   "execution_count": null,
   "id": "c17ef411",
   "metadata": {},
   "outputs": [],
   "source": []
  },
  {
   "cell_type": "code",
   "execution_count": 248,
   "id": "2db45357",
   "metadata": {
    "ExecuteTime": {
     "end_time": "2025-04-29T05:57:32.705180Z",
     "start_time": "2025-04-29T05:57:32.694287Z"
    }
   },
   "outputs": [],
   "source": []
  },
  {
   "cell_type": "code",
   "execution_count": null,
   "id": "4bd838df",
   "metadata": {},
   "outputs": [],
   "source": []
  },
  {
   "cell_type": "code",
   "execution_count": null,
   "id": "5ba60947",
   "metadata": {},
   "outputs": [],
   "source": []
  },
  {
   "cell_type": "code",
   "execution_count": 156,
   "id": "9d563a1e",
   "metadata": {
    "ExecuteTime": {
     "end_time": "2025-04-29T03:36:15.380460Z",
     "start_time": "2025-04-29T03:36:15.172532Z"
    }
   },
   "outputs": [],
   "source": [
    "# def replace_text_in_doc_table(item_dict, inv_no):\n",
    "#     doc = Document('inv_template.docx')\n",
    "\n",
    "#     for table in doc.tables:\n",
    "#         for row in table.rows:\n",
    "#             for cell in row.cells:\n",
    "#                 for para in cell.paragraphs:\n",
    "#                     # 合并所有 run 的文本\n",
    "#                     full_text = ''.join([run.text for run in para.runs])\n",
    "\n",
    "#                     # 替换文本\n",
    "#                     for i in range(1, 16):\n",
    "#                         for name in ['ITEM', 'DETAIL', 'UNITPRICE', '#', '@']:\n",
    "#                             full_text = re.sub(r'\\b' + re.escape(name + str(i)) + r'\\b',\n",
    "#                                                str(item_dict.get(name + str(i), '')), full_text)\n",
    "\n",
    "#                     para.clear()\n",
    "#                     para.add_run(full_text)\n",
    "\n",
    "#     new_doc_path = inv_no + '.docx'\n",
    "#     doc.save(new_doc_path)\n",
    "\n",
    "# # 调用函数\n",
    "# replace_text_in_doc_table(item_dict, inv_no)"
   ]
  },
  {
   "cell_type": "code",
   "execution_count": null,
   "id": "f4cb5da0",
   "metadata": {},
   "outputs": [],
   "source": [
    "# def replace_text_in_doc_table(item_dict, inv_no):\n",
    "#     doc = Document('inv_template.docx')\n",
    "    \n",
    "#     inv_no = item_dict['INV_NO']\n",
    "#     for table in doc.tables:\n",
    "#         for row in table.rows:\n",
    "#             for cell in row.cells:\n",
    "#                 for para in cell.paragraphs:\n",
    "#                     for run in para.runs:\n",
    "#                         for i in range(1, 16):\n",
    "#                             for name in ['ITEM', 'DETAIL', 'UNITPRICE', 'QUAN', 'AMT']:\n",
    "#                                  run.text = re.sub(r'\\b' + name + str(i) + r'\\b', \n",
    "#                                                    str(item_dict[name + str(i)]), \n",
    "#                                                    run.text)\n",
    "\n",
    "#     new_doc_path = inv_no + '.docx'\n",
    "#     doc.save(new_doc_path)\n",
    "    \n",
    "# replace_text_in_doc_table(item_dict, inv_no)"
   ]
  },
  {
   "cell_type": "code",
   "execution_count": 278,
   "id": "d0c821a5",
   "metadata": {
    "ExecuteTime": {
     "end_time": "2025-04-29T06:21:41.029751Z",
     "start_time": "2025-04-29T06:21:40.486351Z"
    }
   },
   "outputs": [],
   "source": [
    "def replace_text_in_doc_table(item_dict):\n",
    "    doc = Document('inv_template.docx')\n",
    "    \n",
    "    inv_no = item_dict['INV_NO']\n",
    "    for table in doc.tables:\n",
    "        for row in table.rows:\n",
    "            for cell in row.cells:\n",
    "                for para in cell.paragraphs:\n",
    "                    for run in para.runs:\n",
    "                            for name in item_dict.keys():\n",
    "                                 run.text = re.sub(r'\\b' + name + r'\\b', \n",
    "                                                   str(item_dict[name]), \n",
    "                                                   run.text)\n",
    "\n",
    "    new_doc_path = inv_no + '.docx'\n",
    "    doc.save(new_doc_path)\n",
    "    \n",
    "replace_text_in_doc_table(item_dict)"
   ]
  },
  {
   "cell_type": "code",
   "execution_count": null,
   "id": "3679629f",
   "metadata": {},
   "outputs": [],
   "source": []
  },
  {
   "cell_type": "code",
   "execution_count": null,
   "id": "ab3b51bc",
   "metadata": {},
   "outputs": [],
   "source": []
  },
  {
   "cell_type": "code",
   "execution_count": null,
   "id": "2a3f1e9a",
   "metadata": {},
   "outputs": [],
   "source": []
  },
  {
   "cell_type": "code",
   "execution_count": null,
   "id": "9d5dc08b",
   "metadata": {},
   "outputs": [],
   "source": []
  },
  {
   "cell_type": "code",
   "execution_count": null,
   "id": "fce82b98",
   "metadata": {},
   "outputs": [],
   "source": []
  },
  {
   "cell_type": "code",
   "execution_count": null,
   "id": "d7f55813",
   "metadata": {},
   "outputs": [],
   "source": []
  },
  {
   "cell_type": "code",
   "execution_count": 8,
   "id": "c3a55d9b",
   "metadata": {
    "ExecuteTime": {
     "end_time": "2024-09-19T06:49:32.901042Z",
     "start_time": "2024-09-19T06:49:32.242244Z"
    }
   },
   "outputs": [],
   "source": [
    "for i in rma_data[rma_data['Inv_No'].isna()].index:\n",
    "    [customer, amount, doc_date, row_num, description] = rma_data.loc[i, ['Customer', 'Amount', 'Date', 'Row_Number', 'Description']]\n",
    "    amount = '{0:.2f}'.format(amount)\n",
    "    inv_no = \"LURMA\" + doc_date.strftime('%Y%m%d') + str(row_num).zfill(3)\n",
    "    \n",
    "    # create the pdf invoice\n",
    "    replace_text_in_table(customer, amount, doc_date, inv_no)\n",
    "    convert(inv_no + \".docx\")\n",
    "    os.remove(inv_no + \".docx\")\n",
    "    \n",
    "    rma_data.loc[i, 'inv_no'] = inv_no\n",
    "    print(inv_no + \" generated successfully!\")"
   ]
  },
  {
   "cell_type": "code",
   "execution_count": null,
   "id": "afe84fd7-f2c2-41fa-9101-dfef0e59bbb7",
   "metadata": {},
   "outputs": [],
   "source": []
  }
 ],
 "metadata": {
  "kernelspec": {
   "display_name": "Python 3 (ipykernel)",
   "language": "python",
   "name": "python3"
  },
  "language_info": {
   "codemirror_mode": {
    "name": "ipython",
    "version": 3
   },
   "file_extension": ".py",
   "mimetype": "text/x-python",
   "name": "python",
   "nbconvert_exporter": "python",
   "pygments_lexer": "ipython3",
   "version": "3.11.6"
  }
 },
 "nbformat": 4,
 "nbformat_minor": 5
}
