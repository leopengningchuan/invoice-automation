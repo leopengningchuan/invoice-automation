{
 "cells": [
  {
   "cell_type": "code",
   "execution_count": 57,
   "id": "00608f68",
   "metadata": {
    "ExecuteTime": {
     "end_time": "2025-04-29T01:36:33.220079Z",
     "start_time": "2025-04-29T01:36:33.215019Z"
    }
   },
   "outputs": [],
   "source": [
    "import pandas as pd\n",
    "from datetime import datetime\n",
    "import re\n",
    "\n",
    "import os\n",
    "from docx import Document\n",
    "from docx2pdf import convert\n",
    "\n",
    "import warnings\n",
    "warnings.filterwarnings('ignore')\n",
    "\n",
    "# remove the doxc\n",
    "# os.remove(\"rma_inv_template.docx\")"
   ]
  },
  {
   "cell_type": "code",
   "execution_count": 2,
   "id": "75ce6267",
   "metadata": {
    "ExecuteTime": {
     "end_time": "2025-04-29T01:05:53.543780Z",
     "start_time": "2025-04-29T01:05:53.360593Z"
    }
   },
   "outputs": [],
   "source": [
    "\n",
    "inv_info = pd.read_excel(\"inv_info_sample.xlsx\")\n",
    "#rma_data['Row_Number'] = rma_data.groupby('Date').cumcount() + 1\n",
    "#rma_data[rma_data['Inv_No'].isna()]"
   ]
  },
  {
   "cell_type": "code",
   "execution_count": 8,
   "id": "e1bf9389",
   "metadata": {
    "ExecuteTime": {
     "end_time": "2025-04-29T01:08:59.499474Z",
     "start_time": "2025-04-29T01:08:59.496127Z"
    }
   },
   "outputs": [],
   "source": [
    "inv_no_list = inv_info['Inv_No'].unique()"
   ]
  },
  {
   "cell_type": "code",
   "execution_count": 13,
   "id": "bede86cd",
   "metadata": {
    "ExecuteTime": {
     "end_time": "2025-04-29T01:14:37.992088Z",
     "start_time": "2025-04-29T01:14:37.984551Z"
    }
   },
   "outputs": [
    {
     "data": {
      "text/plain": [
       "array(['SAMCO_1', 'SAMCO_2', 'SAMCO_3', 'SAMCO_4'], dtype=object)"
      ]
     },
     "execution_count": 13,
     "metadata": {},
     "output_type": "execute_result"
    }
   ],
   "source": [
    "inv_no_list"
   ]
  },
  {
   "cell_type": "code",
   "execution_count": 11,
   "id": "ecab22c2",
   "metadata": {
    "ExecuteTime": {
     "end_time": "2025-04-29T01:12:54.133475Z",
     "start_time": "2025-04-29T01:12:54.129329Z"
    }
   },
   "outputs": [],
   "source": [
    "item_dict = {}\n",
    "for i in range(1, 16):\n",
    "    item_dict['ITEM' + str(i)] = \"\"\n",
    "    item_dict['DETAIL' + str(i)] = \"\"\n",
    "    item_dict['UNITPRICE' + str(i)] = \"\"\n",
    "    item_dict['QUANTITY' + str(i)] = \"\"\n",
    "    item_dict['AMOUNT' + str(i)] = \"\""
   ]
  },
  {
   "cell_type": "code",
   "execution_count": 123,
   "id": "815847bf",
   "metadata": {
    "ExecuteTime": {
     "end_time": "2025-04-29T02:08:52.724598Z",
     "start_time": "2025-04-29T02:08:52.721743Z"
    }
   },
   "outputs": [],
   "source": [
    "inv_no = 'SAMCO_1'"
   ]
  },
  {
   "cell_type": "code",
   "execution_count": null,
   "id": "a8971c55",
   "metadata": {
    "ExecuteTime": {
     "end_time": "2025-04-29T01:19:32.243335Z",
     "start_time": "2025-04-29T01:19:32.237961Z"
    }
   },
   "outputs": [],
   "source": []
  },
  {
   "cell_type": "code",
   "execution_count": 124,
   "id": "8a523c24",
   "metadata": {
    "ExecuteTime": {
     "end_time": "2025-04-29T02:08:53.547720Z",
     "start_time": "2025-04-29T02:08:53.535266Z"
    }
   },
   "outputs": [],
   "source": [
    "use_info = inv_info[inv_info['Inv_No'] == inv_no].reset_index(drop = True)\n",
    "\n",
    "item_dict = {}\n",
    "for i in range(1, 16):\n",
    "    try:\n",
    "        item_dict['ITEM' + str(i)] = use_info.loc[i-1, 'Item']\n",
    "        item_dict['DETAIL' + str(i)] = use_info.loc[i-1, 'Detail']\n",
    "        item_dict['UNITPRICE' + str(i)] = use_info.loc[i-1, 'Unit Price']\n",
    "        item_dict['QUANTITY' + str(i)] = use_info.loc[i-1, 'Quantity']\n",
    "        item_dict['AMOUNT' + str(i)] = use_info.loc[i-1, 'Unit Price'] * use_info.loc[0, 'Quantity']\n",
    "    except:\n",
    "        item_dict['ITEM' + str(i)] = \"\"\n",
    "        item_dict['DETAIL' + str(i)] = \"\"\n",
    "        item_dict['UNITPRICE' + str(i)] = \"\"\n",
    "        item_dict['QUANTITY' + str(i)] = \"\"\n",
    "        item_dict['AMOUNT' + str(i)] = \"\""
   ]
  },
  {
   "cell_type": "code",
   "execution_count": null,
   "id": "88a80456",
   "metadata": {},
   "outputs": [],
   "source": []
  },
  {
   "cell_type": "code",
   "execution_count": null,
   "id": "eec1f625",
   "metadata": {},
   "outputs": [],
   "source": []
  },
  {
   "cell_type": "code",
   "execution_count": null,
   "id": "37136b9f",
   "metadata": {},
   "outputs": [],
   "source": []
  },
  {
   "cell_type": "code",
   "execution_count": 125,
   "id": "3cf2ebac",
   "metadata": {
    "ExecuteTime": {
     "end_time": "2025-04-29T02:08:55.742659Z",
     "start_time": "2025-04-29T02:08:55.733763Z"
    }
   },
   "outputs": [],
   "source": []
  },
  {
   "cell_type": "code",
   "execution_count": 128,
   "id": "905f0c78",
   "metadata": {
    "ExecuteTime": {
     "end_time": "2025-04-29T02:09:35.170923Z",
     "start_time": "2025-04-29T02:09:34.964320Z"
    }
   },
   "outputs": [],
   "source": []
  },
  {
   "cell_type": "code",
   "execution_count": 137,
   "id": "065b3775",
   "metadata": {
    "ExecuteTime": {
     "end_time": "2025-04-29T03:23:02.742988Z",
     "start_time": "2025-04-29T03:23:02.531526Z"
    }
   },
   "outputs": [],
   "source": [
    "import re\n",
    "from docx import Document\n",
    "\n",
    "def replace_text_in_doc_table(item_dict, inv_no):\n",
    "    doc = Document('inv_template.docx')\n",
    "\n",
    "    for table in doc.tables:\n",
    "        for row in table.rows:\n",
    "            for cell in row.cells:\n",
    "                for para in cell.paragraphs:\n",
    "                    # 合并所有 run 的文本\n",
    "                    full_text = ''.join([run.text for run in para.runs])\n",
    "\n",
    "                    # 替换文本\n",
    "                    for i in range(1, 16):\n",
    "                        for name in ['ITEM', 'DETAIL', 'UNITPRICE', 'QUANTITY', 'AMOUNT']:\n",
    "                            full_text = re.sub(r'\\b' + re.escape(name + str(i)) + r'\\b',\n",
    "                                               str(item_dict.get(name + str(i), '')), full_text)\n",
    "\n",
    "                    para.clear()\n",
    "                    para.add_run(full_text)\n",
    "\n",
    "    new_doc_path = inv_no + '.docx'\n",
    "    doc.save(new_doc_path)\n",
    "\n",
    "# 调用函数\n",
    "replace_text_in_doc_table(item_dict, inv_no)"
   ]
  },
  {
   "cell_type": "code",
   "execution_count": null,
   "id": "3b01b7dc",
   "metadata": {},
   "outputs": [],
   "source": []
  },
  {
   "cell_type": "code",
   "execution_count": null,
   "id": "24b448e6",
   "metadata": {},
   "outputs": [],
   "source": []
  },
  {
   "cell_type": "code",
   "execution_count": null,
   "id": "6a685994",
   "metadata": {},
   "outputs": [],
   "source": []
  },
  {
   "cell_type": "code",
   "execution_count": null,
   "id": "e54e83a1",
   "metadata": {},
   "outputs": [],
   "source": []
  },
  {
   "cell_type": "code",
   "execution_count": null,
   "id": "e358381c",
   "metadata": {},
   "outputs": [],
   "source": []
  },
  {
   "cell_type": "code",
   "execution_count": null,
   "id": "91372b36",
   "metadata": {},
   "outputs": [],
   "source": []
  },
  {
   "cell_type": "code",
   "execution_count": 8,
   "id": "c3a55d9b",
   "metadata": {
    "ExecuteTime": {
     "end_time": "2024-09-19T06:49:32.901042Z",
     "start_time": "2024-09-19T06:49:32.242244Z"
    }
   },
   "outputs": [],
   "source": [
    "for i in rma_data[rma_data['Inv_No'].isna()].index:\n",
    "    [customer, amount, doc_date, row_num, description] = rma_data.loc[i, ['Customer', 'Amount', 'Date', 'Row_Number', 'Description']]\n",
    "    amount = '{0:.2f}'.format(amount)\n",
    "    inv_no = \"LURMA\" + doc_date.strftime('%Y%m%d') + str(row_num).zfill(3)\n",
    "    \n",
    "    # create the pdf invoice\n",
    "    replace_text_in_table(customer, amount, doc_date, inv_no)\n",
    "    convert(inv_no + \".docx\")\n",
    "    os.remove(inv_no + \".docx\")\n",
    "    \n",
    "    rma_data.loc[i, 'inv_no'] = inv_no\n",
    "    print(inv_no + \" generated successfully!\")"
   ]
  },
  {
   "cell_type": "code",
   "execution_count": null,
   "id": "afe84fd7-f2c2-41fa-9101-dfef0e59bbb7",
   "metadata": {},
   "outputs": [],
   "source": []
  }
 ],
 "metadata": {
  "kernelspec": {
   "display_name": "Python 3 (ipykernel)",
   "language": "python",
   "name": "python3"
  },
  "language_info": {
   "codemirror_mode": {
    "name": "ipython",
    "version": 3
   },
   "file_extension": ".py",
   "mimetype": "text/x-python",
   "name": "python",
   "nbconvert_exporter": "python",
   "pygments_lexer": "ipython3",
   "version": "3.11.6"
  }
 },
 "nbformat": 4,
 "nbformat_minor": 5
}
