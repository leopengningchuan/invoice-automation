{
 "cells": [
  {
   "cell_type": "code",
   "execution_count": 1,
   "id": "00608f68",
   "metadata": {
    "ExecuteTime": {
     "end_time": "2025-05-02T03:51:01.345547Z",
     "start_time": "2025-05-02T03:51:00.427771Z"
    }
   },
   "outputs": [],
   "source": [
    "import pandas as pd\n",
    "from datetime import datetime\n",
    "import re\n",
    "\n",
    "import os\n",
    "from docx import Document\n",
    "from docx2pdf import convert\n",
    "\n",
    "import warnings\n",
    "warnings.filterwarnings('ignore')"
   ]
  },
  {
   "cell_type": "code",
   "execution_count": 2,
   "id": "75ce6267",
   "metadata": {
    "ExecuteTime": {
     "end_time": "2025-05-02T03:51:25.655656Z",
     "start_time": "2025-05-02T03:51:25.460480Z"
    }
   },
   "outputs": [],
   "source": [
    "inv_info = pd.read_excel(\"inv_info_sample.xlsx\")\n",
    "inv_no_list = inv_info['Invoice No.'].unique()"
   ]
  },
  {
   "cell_type": "code",
   "execution_count": null,
   "id": "61b6ea2c",
   "metadata": {},
   "outputs": [],
   "source": []
  },
  {
   "cell_type": "code",
   "execution_count": 75,
   "id": "e1163564",
   "metadata": {
    "ExecuteTime": {
     "end_time": "2025-05-02T14:38:41.958873Z",
     "start_time": "2025-05-02T14:38:41.936307Z"
    }
   },
   "outputs": [
    {
     "data": {
      "text/plain": [
       "{'CUSTOMER': 'Customer C',\n",
       " 'CUSTOMER_ADDRESS1': 'Apt. C, 789 St.',\n",
       " 'CUSTOMER_ADDRESS2': 'City_C, State_III 30003',\n",
       " 'INV_NO': 'SAMCO_3',\n",
       " 'PAYMENT_TERMS': 60,\n",
       " 'DOC_DATE': '2025-02-16',\n",
       " 'DUE_DATE': '2025-03-18',\n",
       " 'SUB_AMOUNT': '45,931.00',\n",
       " 'ITEM1': 'Product 2',\n",
       " 'DETAIL1': 'Product 2 details',\n",
       " 'UNITPRICE1': '59.00',\n",
       " 'QUAN1': 598,\n",
       " 'AMT1': '35,282.00',\n",
       " 'ITEM2': 'Product 10',\n",
       " 'DETAIL2': 'Product 10 details',\n",
       " 'UNITPRICE2': '23.00',\n",
       " 'QUAN2': 463,\n",
       " 'AMT2': '10,649.00',\n",
       " 'ITEM3': '',\n",
       " 'DETAIL3': '',\n",
       " 'UNITPRICE3': '',\n",
       " 'QUAN3': '',\n",
       " 'AMT3': '',\n",
       " 'ITEM4': '',\n",
       " 'DETAIL4': '',\n",
       " 'UNITPRICE4': '',\n",
       " 'QUAN4': '',\n",
       " 'AMT4': '',\n",
       " 'ITEM5': '',\n",
       " 'DETAIL5': '',\n",
       " 'UNITPRICE5': '',\n",
       " 'QUAN5': '',\n",
       " 'AMT5': '',\n",
       " 'ITEM6': '',\n",
       " 'DETAIL6': '',\n",
       " 'UNITPRICE6': '',\n",
       " 'QUAN6': '',\n",
       " 'AMT6': '',\n",
       " 'ITEM7': '',\n",
       " 'DETAIL7': '',\n",
       " 'UNITPRICE7': '',\n",
       " 'QUAN7': '',\n",
       " 'AMT7': '',\n",
       " 'ITEM8': '',\n",
       " 'DETAIL8': '',\n",
       " 'UNITPRICE8': '',\n",
       " 'QUAN8': '',\n",
       " 'AMT8': '',\n",
       " 'ITEM9': '',\n",
       " 'DETAIL9': '',\n",
       " 'UNITPRICE9': '',\n",
       " 'QUAN9': '',\n",
       " 'AMT9': '',\n",
       " 'ITEM10': '',\n",
       " 'DETAIL10': '',\n",
       " 'UNITPRICE10': '',\n",
       " 'QUAN10': '',\n",
       " 'AMT10': '',\n",
       " 'ITEM11': '',\n",
       " 'DETAIL11': '',\n",
       " 'UNITPRICE11': '',\n",
       " 'QUAN11': '',\n",
       " 'AMT11': '',\n",
       " 'ITEM12': '',\n",
       " 'DETAIL12': '',\n",
       " 'UNITPRICE12': '',\n",
       " 'QUAN12': '',\n",
       " 'AMT12': '',\n",
       " 'ITEM13': '',\n",
       " 'DETAIL13': '',\n",
       " 'UNITPRICE13': '',\n",
       " 'QUAN13': '',\n",
       " 'AMT13': '',\n",
       " 'ITEM14': '',\n",
       " 'DETAIL14': '',\n",
       " 'UNITPRICE14': '',\n",
       " 'QUAN14': '',\n",
       " 'AMT14': '',\n",
       " 'ITEM15': '',\n",
       " 'DETAIL15': '',\n",
       " 'UNITPRICE15': '',\n",
       " 'QUAN15': '',\n",
       " 'AMT15': '',\n",
       " 'TAX_AMOUNT': '4,593.10',\n",
       " 'FINAL_AMOUNT': '50,524.10'}"
      ]
     },
     "execution_count": 75,
     "metadata": {},
     "output_type": "execute_result"
    }
   ],
   "source": [
    "def get_inv_info(inv_no, sales_tax = 0.1):\n",
    "    \n",
    "    use_info = inv_info[inv_info['Invoice No.'] == inv_no].reset_index(drop = True)\n",
    "\n",
    "    item_dict = {}\n",
    "    item_dict['CUSTOMER'] = use_info['Customer'].unique()[0]\n",
    "    item_dict['CUSTOMER_ADDRESS1'] = use_info['Customer Address1'].unique()[0]\n",
    "    item_dict['CUSTOMER_ADDRESS2'] = use_info['Customer Address2'].unique()[0]\n",
    "    item_dict['INV_NO'] = use_info['Invoice No.'].unique()[0]\n",
    "    item_dict['PAYMENT_TERMS'] = use_info['Payment Terms'].unique()[0]\n",
    "    item_dict['DOC_DATE'] = str(pd.to_datetime(use_info['Invoice Date'].unique()[0]).date())\n",
    "    item_dict['DUE_DATE'] = str(pd.to_datetime(use_info['Invoice Date'].unique()[0]).date() + pd.Timedelta(days=inv_info['Payment Terms'].unique()[0]))\n",
    "    item_dict['SUB_AMOUNT'] = 0\n",
    "    \n",
    "    # products information\n",
    "    for i in range(1, 16):\n",
    "        try:\n",
    "            item_dict['ITEM' + str(i)] = use_info.loc[i-1, 'Item']\n",
    "            item_dict['DETAIL' + str(i)] = use_info.loc[i-1, 'Detail']\n",
    "            item_dict['UNITPRICE' + str(i)] = use_info.loc[i-1, 'Unit Price']\n",
    "            item_dict['QUAN' + str(i)] = use_info.loc[i-1, 'Quantity']\n",
    "            item_dict['AMT' + str(i)] = use_info.loc[i-1, 'Unit Price'] * use_info.loc[i-1, 'Quantity']\n",
    "            \n",
    "            item_dict['SUB_AMOUNT'] += item_dict['AMT' + str(i)]\n",
    "            \n",
    "        except:\n",
    "            item_dict['ITEM' + str(i)] = \"\"\n",
    "            item_dict['DETAIL' + str(i)] = \"\"\n",
    "            item_dict['UNITPRICE' + str(i)] = \"\"\n",
    "            item_dict['QUAN' + str(i)] = \"\"\n",
    "            item_dict['AMT' + str(i)] = \"\"\n",
    "    \n",
    "    item_dict['TAX_AMOUNT'] = round(item_dict['SUB_AMOUNT'] * sales_tax, 2)\n",
    "    item_dict['FINAL_AMOUNT'] = item_dict['SUB_AMOUNT'] + item_dict['TAX_AMOUNT']\n",
    "    \n",
    "    for k in item_dict.keys():\n",
    "        \n",
    "        if any(x in k for x in ('UNITPRICE', 'AMT', 'AMOUNT')):\n",
    "            try:\n",
    "                item_dict[k] = '{0:,.2f}'.format(item_dict[k])\n",
    "            except:\n",
    "                pass\n",
    "    return item_dict"
   ]
  },
  {
   "cell_type": "code",
   "execution_count": null,
   "id": "9b27e611",
   "metadata": {},
   "outputs": [],
   "source": []
  },
  {
   "cell_type": "code",
   "execution_count": null,
   "id": "19afdd05",
   "metadata": {},
   "outputs": [],
   "source": []
  },
  {
   "cell_type": "code",
   "execution_count": null,
   "id": "346d7caa",
   "metadata": {},
   "outputs": [],
   "source": []
  },
  {
   "cell_type": "code",
   "execution_count": null,
   "id": "c4106be7",
   "metadata": {},
   "outputs": [],
   "source": []
  },
  {
   "cell_type": "code",
   "execution_count": null,
   "id": "e4942770",
   "metadata": {},
   "outputs": [],
   "source": []
  },
  {
   "cell_type": "code",
   "execution_count": 156,
   "id": "d2ea95b4",
   "metadata": {
    "ExecuteTime": {
     "end_time": "2025-04-29T03:36:15.380460Z",
     "start_time": "2025-04-29T03:36:15.172532Z"
    }
   },
   "outputs": [],
   "source": [
    "# def replace_text_in_doc_table(item_dict, inv_no):\n",
    "#     doc = Document('inv_template.docx')\n",
    "\n",
    "#     for table in doc.tables:\n",
    "#         for row in table.rows:\n",
    "#             for cell in row.cells:\n",
    "#                 for para in cell.paragraphs:\n",
    "#                     # 合并所有 run 的文本\n",
    "#                     full_text = ''.join([run.text for run in para.runs])\n",
    "\n",
    "#                     # 替换文本\n",
    "#                     for i in range(1, 16):\n",
    "#                         for name in ['ITEM', 'DETAIL', 'UNITPRICE', '#', '@']:\n",
    "#                             full_text = re.sub(r'\\b' + re.escape(name + str(i)) + r'\\b',\n",
    "#                                                str(item_dict.get(name + str(i), '')), full_text)\n",
    "\n",
    "#                     para.clear()\n",
    "#                     para.add_run(full_text)\n",
    "\n",
    "#     new_doc_path = inv_no + '.docx'\n",
    "#     doc.save(new_doc_path)\n",
    "\n",
    "# # 调用函数\n",
    "# replace_text_in_doc_table(item_dict, inv_no)"
   ]
  },
  {
   "cell_type": "code",
   "execution_count": null,
   "id": "6d625ae6",
   "metadata": {},
   "outputs": [],
   "source": [
    "# def replace_text_in_doc_table(item_dict, inv_no):\n",
    "#     doc = Document('inv_template.docx')\n",
    "    \n",
    "#     inv_no = item_dict['INV_NO']\n",
    "#     for table in doc.tables:\n",
    "#         for row in table.rows:\n",
    "#             for cell in row.cells:\n",
    "#                 for para in cell.paragraphs:\n",
    "#                     for run in para.runs:\n",
    "#                         for i in range(1, 16):\n",
    "#                             for name in ['ITEM', 'DETAIL', 'UNITPRICE', 'QUAN', 'AMT']:\n",
    "#                                  run.text = re.sub(r'\\b' + name + str(i) + r'\\b', \n",
    "#                                                    str(item_dict[name + str(i)]), \n",
    "#                                                    run.text)\n",
    "\n",
    "#     new_doc_path = inv_no + '.docx'\n",
    "#     doc.save(new_doc_path)\n",
    "    \n",
    "# replace_text_in_doc_table(item_dict, inv_no)"
   ]
  },
  {
   "cell_type": "code",
   "execution_count": null,
   "id": "04bb134a",
   "metadata": {},
   "outputs": [],
   "source": []
  },
  {
   "cell_type": "code",
   "execution_count": null,
   "id": "5b484d39",
   "metadata": {},
   "outputs": [],
   "source": []
  },
  {
   "cell_type": "code",
   "execution_count": 76,
   "id": "1bc10c87",
   "metadata": {
    "ExecuteTime": {
     "end_time": "2025-05-02T14:38:54.141038Z",
     "start_time": "2025-05-02T14:38:53.551304Z"
    }
   },
   "outputs": [],
   "source": [
    "def replace_text_in_doc_table(item_dict):\n",
    "    doc = Document('inv_template.docx')\n",
    "    \n",
    "    inv_no = item_dict['INV_NO']\n",
    "    for table in doc.tables:\n",
    "        for row in table.rows:\n",
    "            for cell in row.cells:\n",
    "                for para in cell.paragraphs:\n",
    "                    for run in para.runs:\n",
    "                            for name in item_dict.keys():\n",
    "                                 run.text = re.sub(r'\\b' + name + r'\\b', \n",
    "                                                   str(item_dict[name]), \n",
    "                                                   run.text)\n",
    "\n",
    "    new_doc_path = inv_no + '.docx'\n",
    "    doc.save(new_doc_path)\n",
    "    \n",
    "replace_text_in_doc_table(item_dict)"
   ]
  },
  {
   "cell_type": "code",
   "execution_count": null,
   "id": "f35aea81",
   "metadata": {},
   "outputs": [],
   "source": []
  },
  {
   "cell_type": "code",
   "execution_count": null,
   "id": "e351e8b9",
   "metadata": {},
   "outputs": [],
   "source": []
  },
  {
   "cell_type": "code",
   "execution_count": null,
   "id": "311c1af5",
   "metadata": {},
   "outputs": [],
   "source": []
  },
  {
   "cell_type": "code",
   "execution_count": 83,
   "id": "a4976d48",
   "metadata": {
    "ExecuteTime": {
     "end_time": "2025-05-02T14:42:54.351172Z",
     "start_time": "2025-05-02T14:42:30.050963Z"
    }
   },
   "outputs": [
    {
     "data": {
      "application/vnd.jupyter.widget-view+json": {
       "model_id": "16378eece8044f48b47d4b56740f3c39",
       "version_major": 2,
       "version_minor": 0
      },
      "text/plain": [
       "  0%|          | 0/1 [00:00<?, ?it/s]"
      ]
     },
     "metadata": {},
     "output_type": "display_data"
    },
    {
     "name": "stdout",
     "output_type": "stream",
     "text": [
      "SAMCO_1 generated successfully!\n"
     ]
    },
    {
     "data": {
      "application/vnd.jupyter.widget-view+json": {
       "model_id": "ba70f24d049342fe8f969c4d64a600d0",
       "version_major": 2,
       "version_minor": 0
      },
      "text/plain": [
       "  0%|          | 0/1 [00:00<?, ?it/s]"
      ]
     },
     "metadata": {},
     "output_type": "display_data"
    },
    {
     "name": "stdout",
     "output_type": "stream",
     "text": [
      "SAMCO_2 generated successfully!\n"
     ]
    },
    {
     "data": {
      "application/vnd.jupyter.widget-view+json": {
       "model_id": "4a0a207827e24a52bc94b697dba3a5f3",
       "version_major": 2,
       "version_minor": 0
      },
      "text/plain": [
       "  0%|          | 0/1 [00:00<?, ?it/s]"
      ]
     },
     "metadata": {},
     "output_type": "display_data"
    },
    {
     "name": "stdout",
     "output_type": "stream",
     "text": [
      "SAMCO_3 generated successfully!\n"
     ]
    },
    {
     "data": {
      "application/vnd.jupyter.widget-view+json": {
       "model_id": "8c84cd6e3c5e4f1186eba97a9f3ce160",
       "version_major": 2,
       "version_minor": 0
      },
      "text/plain": [
       "  0%|          | 0/1 [00:00<?, ?it/s]"
      ]
     },
     "metadata": {},
     "output_type": "display_data"
    },
    {
     "name": "stdout",
     "output_type": "stream",
     "text": [
      "SAMCO_4 generated successfully!\n"
     ]
    }
   ],
   "source": [
    "for i in inv_info['Invoice No.'].unique():\n",
    "\n",
    "    item_dict = get_inv_info(i)\n",
    "    replace_text_in_doc_table(item_dict)\n",
    "    convert(i + \".docx\")\n",
    "    os.remove(i + \".docx\")\n",
    "    print(i + \" generated successfully!\")"
   ]
  },
  {
   "cell_type": "code",
   "execution_count": null,
   "id": "70ee6ed0",
   "metadata": {},
   "outputs": [],
   "source": []
  }
 ],
 "metadata": {
  "kernelspec": {
   "display_name": "Python 3 (ipykernel)",
   "language": "python",
   "name": "python3"
  },
  "language_info": {
   "codemirror_mode": {
    "name": "ipython",
    "version": 3
   },
   "file_extension": ".py",
   "mimetype": "text/x-python",
   "name": "python",
   "nbconvert_exporter": "python",
   "pygments_lexer": "ipython3",
   "version": "3.11.6"
  }
 },
 "nbformat": 4,
 "nbformat_minor": 5
}
