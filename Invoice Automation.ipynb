{
 "cells": [
  {
   "cell_type": "code",
   "execution_count": 1,
   "id": "00608f68",
   "metadata": {
    "ExecuteTime": {
     "end_time": "2025-05-02T03:51:01.345547Z",
     "start_time": "2025-05-02T03:51:00.427771Z"
    }
   },
   "outputs": [],
   "source": [
    "import pandas as pd\n",
    "from datetime import datetime\n",
    "import re\n",
    "\n",
    "import os\n",
    "from docx import Document\n",
    "from docx2pdf import convert\n",
    "\n",
    "import warnings\n",
    "warnings.filterwarnings('ignore')"
   ]
  },
  {
   "cell_type": "code",
   "execution_count": 2,
   "id": "75ce6267",
   "metadata": {
    "ExecuteTime": {
     "end_time": "2025-05-02T03:51:25.655656Z",
     "start_time": "2025-05-02T03:51:25.460480Z"
    }
   },
   "outputs": [],
   "source": [
    "inv_info = pd.read_excel(\"inv_info_sample.xlsx\")\n"
   ]
  },
  {
   "cell_type": "code",
   "execution_count": 3,
   "id": "d0576f83",
   "metadata": {
    "ExecuteTime": {
     "end_time": "2025-05-02T03:51:25.898883Z",
     "start_time": "2025-05-02T03:51:25.886195Z"
    }
   },
   "outputs": [
    {
     "data": {
      "text/plain": [
       "array(['SAMCO_1', 'SAMCO_2', 'SAMCO_3', 'SAMCO_4'], dtype=object)"
      ]
     },
     "execution_count": 3,
     "metadata": {},
     "output_type": "execute_result"
    }
   ],
   "source": [
    "inv_no_list = inv_info['Invoice No.'].unique()\n"
   ]
  },
  {
   "cell_type": "code",
   "execution_count": 4,
   "id": "e1163564",
   "metadata": {
    "ExecuteTime": {
     "end_time": "2025-05-02T03:51:28.154871Z",
     "start_time": "2025-05-02T03:51:28.145489Z"
    }
   },
   "outputs": [],
   "source": [
    "def get_inv_info(inv_no):\n",
    "    \n",
    "    use_info = inv_info[inv_info['Invoice No.'] == inv_no].reset_index(drop = True)\n",
    "\n",
    "    item_dict = {}\n",
    "    item_dict['CUSTOMER'] = use_info['Customer'].unique()[0]\n",
    "    item_dict['CUSTOMER_ADDRESS1'] = use_info['Customer Address1'].unique()[0]\n",
    "    item_dict['CUSTOMER_ADDRESS2'] = use_info['Customer Address2'].unique()[0]\n",
    "    item_dict['INV_NO'] = use_info['Invoice No.'].unique()[0]\n",
    "    item_dict['PAYMENT_TERMS'] = use_info['Payment Terms'].unique()[0]\n",
    "    \n",
    "    # products information\n",
    "    for i in range(1, 16):\n",
    "        try:\n",
    "            item_dict['ITEM' + str(i)] = use_info.loc[i-1, 'Item']\n",
    "            item_dict['DETAIL' + str(i)] = use_info.loc[i-1, 'Detail']\n",
    "            item_dict['UNITPRICE' + str(i)] = use_info.loc[i-1, 'Unit Price']\n",
    "            item_dict['QUAN' + str(i)] = use_info.loc[i-1, 'Quantity']\n",
    "            item_dict['AMT' + str(i)] = use_info.loc[i-1, 'Unit Price'] * use_info.loc[i-1, 'Quantity']\n",
    "        except:\n",
    "            item_dict['ITEM' + str(i)] = \"\"\n",
    "            item_dict['DETAIL' + str(i)] = \"\"\n",
    "            item_dict['UNITPRICE' + str(i)] = \"\"\n",
    "            item_dict['QUAN' + str(i)] = \"\"\n",
    "            item_dict['AMT' + str(i)] = \"\"\n",
    "            \n",
    "    return item_dict"
   ]
  },
  {
   "cell_type": "code",
   "execution_count": 5,
   "id": "2c872ec6",
   "metadata": {
    "ExecuteTime": {
     "end_time": "2025-05-02T03:51:28.630679Z",
     "start_time": "2025-05-02T03:51:28.618844Z"
    }
   },
   "outputs": [],
   "source": [
    "item_dict = get_inv_info('SAMCO_3')"
   ]
  },
  {
   "cell_type": "code",
   "execution_count": null,
   "id": "77ee592b",
   "metadata": {},
   "outputs": [],
   "source": []
  },
  {
   "cell_type": "code",
   "execution_count": 248,
   "id": "9e53c901",
   "metadata": {
    "ExecuteTime": {
     "end_time": "2025-04-29T05:57:32.705180Z",
     "start_time": "2025-04-29T05:57:32.694287Z"
    }
   },
   "outputs": [],
   "source": []
  },
  {
   "cell_type": "code",
   "execution_count": null,
   "id": "7eea573c",
   "metadata": {},
   "outputs": [],
   "source": []
  },
  {
   "cell_type": "code",
   "execution_count": null,
   "id": "e4942770",
   "metadata": {},
   "outputs": [],
   "source": []
  },
  {
   "cell_type": "code",
   "execution_count": 156,
   "id": "d2ea95b4",
   "metadata": {
    "ExecuteTime": {
     "end_time": "2025-04-29T03:36:15.380460Z",
     "start_time": "2025-04-29T03:36:15.172532Z"
    }
   },
   "outputs": [],
   "source": [
    "# def replace_text_in_doc_table(item_dict, inv_no):\n",
    "#     doc = Document('inv_template.docx')\n",
    "\n",
    "#     for table in doc.tables:\n",
    "#         for row in table.rows:\n",
    "#             for cell in row.cells:\n",
    "#                 for para in cell.paragraphs:\n",
    "#                     # 合并所有 run 的文本\n",
    "#                     full_text = ''.join([run.text for run in para.runs])\n",
    "\n",
    "#                     # 替换文本\n",
    "#                     for i in range(1, 16):\n",
    "#                         for name in ['ITEM', 'DETAIL', 'UNITPRICE', '#', '@']:\n",
    "#                             full_text = re.sub(r'\\b' + re.escape(name + str(i)) + r'\\b',\n",
    "#                                                str(item_dict.get(name + str(i), '')), full_text)\n",
    "\n",
    "#                     para.clear()\n",
    "#                     para.add_run(full_text)\n",
    "\n",
    "#     new_doc_path = inv_no + '.docx'\n",
    "#     doc.save(new_doc_path)\n",
    "\n",
    "# # 调用函数\n",
    "# replace_text_in_doc_table(item_dict, inv_no)"
   ]
  },
  {
   "cell_type": "code",
   "execution_count": null,
   "id": "6d625ae6",
   "metadata": {},
   "outputs": [],
   "source": [
    "# def replace_text_in_doc_table(item_dict, inv_no):\n",
    "#     doc = Document('inv_template.docx')\n",
    "    \n",
    "#     inv_no = item_dict['INV_NO']\n",
    "#     for table in doc.tables:\n",
    "#         for row in table.rows:\n",
    "#             for cell in row.cells:\n",
    "#                 for para in cell.paragraphs:\n",
    "#                     for run in para.runs:\n",
    "#                         for i in range(1, 16):\n",
    "#                             for name in ['ITEM', 'DETAIL', 'UNITPRICE', 'QUAN', 'AMT']:\n",
    "#                                  run.text = re.sub(r'\\b' + name + str(i) + r'\\b', \n",
    "#                                                    str(item_dict[name + str(i)]), \n",
    "#                                                    run.text)\n",
    "\n",
    "#     new_doc_path = inv_no + '.docx'\n",
    "#     doc.save(new_doc_path)\n",
    "    \n",
    "# replace_text_in_doc_table(item_dict, inv_no)"
   ]
  },
  {
   "cell_type": "code",
   "execution_count": 6,
   "id": "1bc10c87",
   "metadata": {
    "ExecuteTime": {
     "end_time": "2025-05-02T03:51:41.152089Z",
     "start_time": "2025-05-02T03:51:40.634630Z"
    }
   },
   "outputs": [],
   "source": [
    "def replace_text_in_doc_table(item_dict):\n",
    "    doc = Document('inv_template.docx')\n",
    "    \n",
    "    inv_no = item_dict['INV_NO']\n",
    "    for table in doc.tables:\n",
    "        for row in table.rows:\n",
    "            for cell in row.cells:\n",
    "                for para in cell.paragraphs:\n",
    "                    for run in para.runs:\n",
    "                            for name in item_dict.keys():\n",
    "                                 run.text = re.sub(r'\\b' + name + r'\\b', \n",
    "                                                   str(item_dict[name]), \n",
    "                                                   run.text)\n",
    "\n",
    "    new_doc_path = inv_no + '.docx'\n",
    "    doc.save(new_doc_path)\n",
    "    \n",
    "replace_text_in_doc_table(item_dict)"
   ]
  },
  {
   "cell_type": "code",
   "execution_count": null,
   "id": "f9a3f437",
   "metadata": {},
   "outputs": [],
   "source": []
  },
  {
   "cell_type": "code",
   "execution_count": 9,
   "id": "a4976d48",
   "metadata": {
    "ExecuteTime": {
     "end_time": "2025-05-02T03:56:08.541016Z",
     "start_time": "2025-05-02T03:55:26.312300Z"
    }
   },
   "outputs": [
    {
     "data": {
      "application/vnd.jupyter.widget-view+json": {
       "model_id": "4fa06a7c6b654167be2542ea3addfe7f",
       "version_major": 2,
       "version_minor": 0
      },
      "text/plain": [
       "  0%|          | 0/1 [00:00<?, ?it/s]"
      ]
     },
     "metadata": {},
     "output_type": "display_data"
    },
    {
     "name": "stdout",
     "output_type": "stream",
     "text": [
      "SAMCO_1 generated successfully!\n"
     ]
    },
    {
     "data": {
      "application/vnd.jupyter.widget-view+json": {
       "model_id": "07c1026aebdf4d64a1104de70b7f2402",
       "version_major": 2,
       "version_minor": 0
      },
      "text/plain": [
       "  0%|          | 0/1 [00:00<?, ?it/s]"
      ]
     },
     "metadata": {},
     "output_type": "display_data"
    },
    {
     "name": "stdout",
     "output_type": "stream",
     "text": [
      "SAMCO_2 generated successfully!\n"
     ]
    },
    {
     "data": {
      "application/vnd.jupyter.widget-view+json": {
       "model_id": "d55985d317324735a8875712ff5642f5",
       "version_major": 2,
       "version_minor": 0
      },
      "text/plain": [
       "  0%|          | 0/1 [00:00<?, ?it/s]"
      ]
     },
     "metadata": {},
     "output_type": "display_data"
    },
    {
     "name": "stdout",
     "output_type": "stream",
     "text": [
      "SAMCO_3 generated successfully!\n"
     ]
    },
    {
     "data": {
      "application/vnd.jupyter.widget-view+json": {
       "model_id": "5890991bea814ccfac0ff2c52951a0dd",
       "version_major": 2,
       "version_minor": 0
      },
      "text/plain": [
       "  0%|          | 0/1 [00:00<?, ?it/s]"
      ]
     },
     "metadata": {},
     "output_type": "display_data"
    },
    {
     "name": "stdout",
     "output_type": "stream",
     "text": [
      "SAMCO_4 generated successfully!\n"
     ]
    }
   ],
   "source": [
    "for i in inv_info['Invoice No.'].unique():\n",
    "    item_dict = get_inv_info(i)\n",
    "    replace_text_in_doc_table(item_dict)\n",
    "    convert(i + \".docx\")\n",
    "    os.remove(i + \".docx\")\n",
    "    print(i + \" generated successfully!\")"
   ]
  },
  {
   "cell_type": "code",
   "execution_count": null,
   "id": "642d592f",
   "metadata": {},
   "outputs": [],
   "source": []
  },
  {
   "cell_type": "code",
   "execution_count": 8,
   "id": "c3a55d9b",
   "metadata": {
    "ExecuteTime": {
     "end_time": "2024-09-19T06:49:32.901042Z",
     "start_time": "2024-09-19T06:49:32.242244Z"
    }
   },
   "outputs": [],
   "source": [
    "for i in inv_info_sample[inv_info_sample['Invoice No.'].isna()].index:\n",
    "    [customer, amount, doc_date, row_num, description] = rma_data.loc[i, ['Customer', 'Amount', 'Date', 'Row_Number', 'Description']]\n",
    "    amount = '{0:.2f}'.format(amount)\n",
    "    inv_no = \"LURMA\" + doc_date.strftime('%Y%m%d') + str(row_num).zfill(3)\n",
    "    \n",
    "    # create the pdf invoice\n",
    "    replace_text_in_table(customer, amount, doc_date, inv_no)\n",
    "    convert(inv_no + \".docx\")\n",
    "    os.remove(inv_no + \".docx\")\n",
    "    \n",
    "    rma_data.loc[i, 'inv_no'] = inv_no\n",
    "    print(inv_no + \" generated successfully!\")"
   ]
  },
  {
   "cell_type": "code",
   "execution_count": null,
   "id": "afe84fd7-f2c2-41fa-9101-dfef0e59bbb7",
   "metadata": {},
   "outputs": [],
   "source": []
  }
 ],
 "metadata": {
  "kernelspec": {
   "display_name": "Python 3 (ipykernel)",
   "language": "python",
   "name": "python3"
  },
  "language_info": {
   "codemirror_mode": {
    "name": "ipython",
    "version": 3
   },
   "file_extension": ".py",
   "mimetype": "text/x-python",
   "name": "python",
   "nbconvert_exporter": "python",
   "pygments_lexer": "ipython3",
   "version": "3.11.6"
  }
 },
 "nbformat": 4,
 "nbformat_minor": 5
}
