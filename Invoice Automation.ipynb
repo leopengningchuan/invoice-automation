{
 "cells": [
  {
   "cell_type": "code",
   "execution_count": 1,
   "id": "00608f68",
   "metadata": {
    "ExecuteTime": {
     "end_time": "2025-04-29T01:05:34.046881Z",
     "start_time": "2025-04-29T01:05:33.394231Z"
    }
   },
   "outputs": [],
   "source": [
    "import pandas as pd\n",
    "from datetime import datetime\n",
    "\n",
    "import os\n",
    "from docx import Document\n",
    "from docx2pdf import convert\n",
    "\n",
    "import warnings\n",
    "warnings.filterwarnings('ignore')\n",
    "\n",
    "# remove the doxc\n",
    "# os.remove(\"rma_inv_template.docx\")"
   ]
  },
  {
   "cell_type": "code",
   "execution_count": 2,
   "id": "75ce6267",
   "metadata": {
    "ExecuteTime": {
     "end_time": "2025-04-29T01:05:53.543780Z",
     "start_time": "2025-04-29T01:05:53.360593Z"
    }
   },
   "outputs": [],
   "source": [
    "inv_info = pd.read_excel(\"inv_info_sample.xlsx\")\n",
    "#rma_data['Row_Number'] = rma_data.groupby('Date').cumcount() + 1\n",
    "#rma_data[rma_data['Inv_No'].isna()]"
   ]
  },
  {
   "cell_type": "code",
   "execution_count": 6,
   "id": "d2c2d10a",
   "metadata": {
    "ExecuteTime": {
     "end_time": "2025-04-29T01:07:20.660541Z",
     "start_time": "2025-04-29T01:07:20.430233Z"
    }
   },
   "outputs": [
    {
     "ename": "AttributeError",
     "evalue": "'numpy.ndarray' object has no attribute 'to_list'",
     "output_type": "error",
     "traceback": [
      "\u001b[0;31m---------------------------------------------------------------------------\u001b[0m",
      "\u001b[0;31mAttributeError\u001b[0m                            Traceback (most recent call last)",
      "Cell \u001b[0;32mIn[6], line 1\u001b[0m\n\u001b[0;32m----> 1\u001b[0m inv_no_list \u001b[38;5;241m=\u001b[39m inv_info[\u001b[38;5;124m'\u001b[39m\u001b[38;5;124mInv_No\u001b[39m\u001b[38;5;124m'\u001b[39m]\u001b[38;5;241m.\u001b[39munique()\u001b[38;5;241m.\u001b[39mto_list()\n",
      "\u001b[0;31mAttributeError\u001b[0m: 'numpy.ndarray' object has no attribute 'to_list'"
     ]
    }
   ],
   "source": [
    "inv_no_list = inv_info['Inv_No'].unique()"
   ]
  },
  {
   "cell_type": "code",
   "execution_count": null,
   "id": "405b9b2d",
   "metadata": {},
   "outputs": [],
   "source": []
  },
  {
   "cell_type": "code",
   "execution_count": null,
   "id": "98904c3e",
   "metadata": {},
   "outputs": [],
   "source": []
  },
  {
   "cell_type": "code",
   "execution_count": 7,
   "id": "0a8e0aff",
   "metadata": {
    "ExecuteTime": {
     "end_time": "2025-04-29T01:07:24.986891Z",
     "start_time": "2025-04-29T01:07:24.980870Z"
    }
   },
   "outputs": [
    {
     "data": {
      "text/plain": [
       "array(['SAMCO_1', 'SAMCO_2', 'SAMCO_3', 'SAMCO_4'], dtype=object)"
      ]
     },
     "execution_count": 7,
     "metadata": {},
     "output_type": "execute_result"
    }
   ],
   "source": [
    "inv_info['Inv_No'].unique()"
   ]
  },
  {
   "cell_type": "code",
   "execution_count": null,
   "id": "62cf885d",
   "metadata": {},
   "outputs": [],
   "source": []
  },
  {
   "cell_type": "code",
   "execution_count": null,
   "id": "01f74506",
   "metadata": {},
   "outputs": [],
   "source": []
  },
  {
   "cell_type": "code",
   "execution_count": null,
   "id": "1e0af091",
   "metadata": {},
   "outputs": [],
   "source": []
  },
  {
   "cell_type": "code",
   "execution_count": 5,
   "id": "3cf2ebac",
   "metadata": {
    "ExecuteTime": {
     "end_time": "2024-09-19T06:49:31.175735Z",
     "start_time": "2024-09-19T06:49:31.168518Z"
    }
   },
   "outputs": [],
   "source": [
    "def replace_text_in_table(customer, amount, doc_date, inv_no):\n",
    "    doc = Document('rma_inv_template.docx')\n",
    "    \n",
    "    for table in doc.tables:\n",
    "        for row in table.rows:\n",
    "            for cell in row.cells:\n",
    "                for para in cell.paragraphs:\n",
    "                    for run in para.runs:\n",
    "                        run.text\n",
    "                        if 'INV_N' in run.text:\n",
    "                            run.text = run.text.replace('INV_N', inv_no)\n",
    "                        if 'DOC_DATE' in run.text:\n",
    "                            run.text = run.text.replace('DOC_DATE', doc_date.strftime('%B %d, %Y'))\n",
    "                        if 'DUE_DATE' in run.text:\n",
    "                            run.text = run.text.replace('DUE_DATE', (doc_date + pd.Timedelta(days=30)).strftime('%B %d, %Y'))\n",
    "                        if 'CUSTOMER' in run.text:\n",
    "                            run.text = run.text.replace('CUSTOMER', customer)\n",
    "                        if 'DES' in run.text:\n",
    "                            run.text = run.text.replace('DES', description)\n",
    "                        if 'AMOUNT' in run.text:\n",
    "                            run.text = run.text.replace('AMOUNT', amount)\n",
    "                                        \n",
    "    new_doc_path = inv_no + '.docx'\n",
    "    doc.save(new_doc_path)"
   ]
  },
  {
   "cell_type": "code",
   "execution_count": 8,
   "id": "c3a55d9b",
   "metadata": {
    "ExecuteTime": {
     "end_time": "2024-09-19T06:49:32.901042Z",
     "start_time": "2024-09-19T06:49:32.242244Z"
    }
   },
   "outputs": [],
   "source": [
    "for i in rma_data[rma_data['Inv_No'].isna()].index:\n",
    "    [customer, amount, doc_date, row_num, description] = rma_data.loc[i, ['Customer', 'Amount', 'Date', 'Row_Number', 'Description']]\n",
    "    amount = '{0:.2f}'.format(amount)\n",
    "    inv_no = \"LURMA\" + doc_date.strftime('%Y%m%d') + str(row_num).zfill(3)\n",
    "    \n",
    "    # create the pdf invoice\n",
    "    replace_text_in_table(customer, amount, doc_date, inv_no)\n",
    "    convert(inv_no + \".docx\")\n",
    "    os.remove(inv_no + \".docx\")\n",
    "    \n",
    "    rma_data.loc[i, 'inv_no'] = inv_no\n",
    "    print(inv_no + \" generated successfully!\")"
   ]
  },
  {
   "cell_type": "code",
   "execution_count": null,
   "id": "afe84fd7-f2c2-41fa-9101-dfef0e59bbb7",
   "metadata": {},
   "outputs": [],
   "source": []
  }
 ],
 "metadata": {
  "kernelspec": {
   "display_name": "Python 3 (ipykernel)",
   "language": "python",
   "name": "python3"
  },
  "language_info": {
   "codemirror_mode": {
    "name": "ipython",
    "version": 3
   },
   "file_extension": ".py",
   "mimetype": "text/x-python",
   "name": "python",
   "nbconvert_exporter": "python",
   "pygments_lexer": "ipython3",
   "version": "3.11.6"
  }
 },
 "nbformat": 4,
 "nbformat_minor": 5
}
