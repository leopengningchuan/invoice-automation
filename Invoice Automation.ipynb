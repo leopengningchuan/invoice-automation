{
 "cells": [
  {
   "cell_type": "code",
   "execution_count": 1,
   "id": "00608f68",
   "metadata": {
    "ExecuteTime": {
     "end_time": "2025-05-05T01:44:45.099285Z",
     "start_time": "2025-05-05T01:44:44.714422Z"
    }
   },
   "outputs": [],
   "source": [
    "# import packages\n",
    "import pandas as pd\n",
    "from datetime import datetime\n",
    "import re\n",
    "\n",
    "import os\n",
    "from docx import Document\n",
    "from docx2pdf import convert\n",
    "\n",
    "import warnings\n",
    "warnings.filterwarnings('ignore')"
   ]
  },
  {
   "cell_type": "code",
   "execution_count": 2,
   "id": "75ce6267",
   "metadata": {
    "ExecuteTime": {
     "end_time": "2025-05-05T01:44:45.204050Z",
     "start_time": "2025-05-05T01:44:45.100357Z"
    }
   },
   "outputs": [],
   "source": [
    "# import the excel file for invoice information\n",
    "inv_info = pd.read_excel(\"inv_info_sample.xlsx\")"
   ]
  },
  {
   "cell_type": "code",
   "execution_count": 3,
   "id": "e1163564",
   "metadata": {
    "ExecuteTime": {
     "end_time": "2025-05-05T01:44:45.209088Z",
     "start_time": "2025-05-05T01:44:45.204791Z"
    }
   },
   "outputs": [],
   "source": [
    "# define the function of getting the invoice information, set the default sales tax rate to 10%\n",
    "def get_inv_info(inv_no, sales_tax_rate = 0.1):\n",
    "    \n",
    "    # use the information for a specific invoice\n",
    "    use_info = inv_info[inv_info['Invoice No.'] == inv_no].reset_index(drop = True)\n",
    "    item_dict = {}\n",
    "    \n",
    "    # invoice information\n",
    "    item_dict['CUSTOMER'] = use_info['Customer'].unique()[0]\n",
    "    item_dict['CUSTOMER_ADDRESS1'] = use_info['Customer Address1'].unique()[0]\n",
    "    item_dict['CUSTOMER_ADDRESS2'] = use_info['Customer Address2'].unique()[0]\n",
    "    item_dict['INV_NO'] = use_info['Invoice No.'].unique()[0]\n",
    "    item_dict['PAYMENT_TERMS'] = use_info['Payment Terms'].unique()[0]\n",
    "    item_dict['DOC_DATE'] = str(pd.to_datetime(use_info['Invoice Date'].unique()[0]).date())\n",
    "    item_dict['DUE_DATE'] = str(pd.to_datetime(use_info['Invoice Date'].unique()[0]).date() + pd.Timedelta(days=inv_info['Payment Terms'].unique()[0]))\n",
    "    item_dict['SUB_AMOUNT'] = 0\n",
    "    \n",
    "    # product information for maximal of 15 items\n",
    "    for i in range(1, 16):\n",
    "        try:\n",
    "            \n",
    "            # for non empty items, get the information\n",
    "            item_dict['ITEM' + str(i)] = use_info.loc[i-1, 'Item']\n",
    "            item_dict['DETAIL' + str(i)] = use_info.loc[i-1, 'Detail']\n",
    "            item_dict['UNITPRICE' + str(i)] = use_info.loc[i-1, 'Unit Price']\n",
    "            item_dict['QUAN' + str(i)] = use_info.loc[i-1, 'Quantity']\n",
    "            item_dict['AMT' + str(i)] = use_info.loc[i-1, 'Unit Price'] * use_info.loc[i-1, 'Quantity']\n",
    "            \n",
    "            # get the sum of subtotal\n",
    "            item_dict['SUB_AMOUNT'] += item_dict['AMT' + str(i)]\n",
    "            \n",
    "        except:\n",
    "            \n",
    "            # for empty items, input empty information\n",
    "            item_dict['ITEM' + str(i)] = \"\"\n",
    "            item_dict['DETAIL' + str(i)] = \"\"\n",
    "            item_dict['UNITPRICE' + str(i)] = \"\"\n",
    "            item_dict['QUAN' + str(i)] = \"\"\n",
    "            item_dict['AMT' + str(i)] = \"\"\n",
    "    \n",
    "    # get the tax and total amount\n",
    "    item_dict['TAX_AMOUNT'] = round(item_dict['SUB_AMOUNT'] * sales_tax_rate, 2)\n",
    "    item_dict['TOTAL_AMOUNT'] = item_dict['SUB_AMOUNT'] + item_dict['TAX_AMOUNT']\n",
    "    \n",
    "    # change all the unit price, amount to 000,000.00 format\n",
    "    for k in item_dict.keys():\n",
    "        if any(x in k for x in ('UNITPRICE', 'AMT', 'AMOUNT', 'QUAN', 'PAYMENT_TERMS')):\n",
    "            try:\n",
    "                if any(x in k for x in ('UNITPRICE', 'AMT', 'AMOUNT')):\n",
    "                    item_dict[k] = '{0:,.2f}'.format(item_dict[k])\n",
    "                else: \n",
    "                    item_dict[k] = '{0:,}'.format(item_dict[k])\n",
    "            except:\n",
    "                pass\n",
    "            \n",
    "    # return the item information\n",
    "    return item_dict"
   ]
  },
  {
   "cell_type": "code",
   "execution_count": 4,
   "id": "cb184fff",
   "metadata": {
    "ExecuteTime": {
     "end_time": "2025-05-05T01:44:45.212181Z",
     "start_time": "2025-05-05T01:44:45.210253Z"
    }
   },
   "outputs": [],
   "source": [
    "# define the function of replacing the template placeholder with invoice information\n",
    "def replace_text_in_doc_table(item_dict, docx_template_name):\n",
    "    \n",
    "    # open the template docx\n",
    "    doc = Document(docx_template_name)\n",
    "    \n",
    "    # replace the placeholder in the docx for all the invoices information \n",
    "    for table in doc.tables:\n",
    "        for row in table.rows:\n",
    "            for cell in row.cells:\n",
    "                for para in cell.paragraphs:\n",
    "                    for run in para.runs:\n",
    "                        if run.text in item_dict.keys():\n",
    "                            run.text = item_dict[run.text]\n",
    "    \n",
    "    # add the docx path and docx name\n",
    "    new_doc_path = item_dict['INV_NO'] + '.docx'\n",
    "    \n",
    "    # save the docx to the docx path\n",
    "    doc.save(new_doc_path)"
   ]
  },
  {
   "cell_type": "code",
   "execution_count": 5,
   "id": "a4976d48",
   "metadata": {
    "ExecuteTime": {
     "end_time": "2025-05-05T01:45:20.398754Z",
     "start_time": "2025-05-05T01:44:45.212825Z"
    }
   },
   "outputs": [
    {
     "data": {
      "application/vnd.jupyter.widget-view+json": {
       "model_id": "097a9579d0da4f19abf5a40d6aa9e7c6",
       "version_major": 2,
       "version_minor": 0
      },
      "text/plain": [
       "  0%|          | 0/1 [00:00<?, ?it/s]"
      ]
     },
     "metadata": {},
     "output_type": "display_data"
    },
    {
     "name": "stdout",
     "output_type": "stream",
     "text": [
      "SAMCO_1 generated successfully!\n"
     ]
    },
    {
     "data": {
      "application/vnd.jupyter.widget-view+json": {
       "model_id": "f663979abc2f4e47a1e8b1e74a2433ea",
       "version_major": 2,
       "version_minor": 0
      },
      "text/plain": [
       "  0%|          | 0/1 [00:00<?, ?it/s]"
      ]
     },
     "metadata": {},
     "output_type": "display_data"
    },
    {
     "name": "stdout",
     "output_type": "stream",
     "text": [
      "SAMCO_2 generated successfully!\n"
     ]
    },
    {
     "data": {
      "application/vnd.jupyter.widget-view+json": {
       "model_id": "8d2531b5faf74fc7aba0a8b9cc620227",
       "version_major": 2,
       "version_minor": 0
      },
      "text/plain": [
       "  0%|          | 0/1 [00:00<?, ?it/s]"
      ]
     },
     "metadata": {},
     "output_type": "display_data"
    },
    {
     "name": "stdout",
     "output_type": "stream",
     "text": [
      "SAMCO_3 generated successfully!\n"
     ]
    },
    {
     "data": {
      "application/vnd.jupyter.widget-view+json": {
       "model_id": "d5e456dbcfa74676b10d2080f92e7d82",
       "version_major": 2,
       "version_minor": 0
      },
      "text/plain": [
       "  0%|          | 0/1 [00:00<?, ?it/s]"
      ]
     },
     "metadata": {},
     "output_type": "display_data"
    },
    {
     "name": "stdout",
     "output_type": "stream",
     "text": [
      "SAMCO_4 generated successfully!\n"
     ]
    }
   ],
   "source": [
    "# loop the invoice no for all the invoices\n",
    "for i in inv_info['Invoice No.'].unique():\n",
    "    \n",
    "    # get the invoice information dictionary\n",
    "    item_dict = get_inv_info(i)\n",
    "    \n",
    "    # replace the invoice information in the word template\n",
    "    replace_text_in_doc_table(item_dict, 'inv_template.docx')\n",
    "    \n",
    "    # convert the docx to pdf and remove the docx\n",
    "    convert(i + \".docx\")\n",
    "    os.remove(i + \".docx\")\n",
    "    \n",
    "    # print reminder\n",
    "    print(i + \" generated successfully!\")"
   ]
  },
  {
   "cell_type": "code",
   "execution_count": null,
   "id": "d13e1792",
   "metadata": {},
   "outputs": [],
   "source": []
  }
 ],
 "metadata": {
  "kernelspec": {
   "display_name": "Python 3 (ipykernel)",
   "language": "python",
   "name": "python3"
  },
  "language_info": {
   "codemirror_mode": {
    "name": "ipython",
    "version": 3
   },
   "file_extension": ".py",
   "mimetype": "text/x-python",
   "name": "python",
   "nbconvert_exporter": "python",
   "pygments_lexer": "ipython3",
   "version": "3.11.6"
  }
 },
 "nbformat": 4,
 "nbformat_minor": 5
}
