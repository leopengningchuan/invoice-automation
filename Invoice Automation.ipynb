{
 "cells": [
  {
   "cell_type": "code",
   "execution_count": 1,
   "id": "00608f68",
   "metadata": {
    "ExecuteTime": {
     "end_time": "2025-05-03T08:42:31.613363Z",
     "start_time": "2025-05-03T08:42:31.117100Z"
    }
   },
   "outputs": [],
   "source": [
    "# import packages\n",
    "import pandas as pd\n",
    "from datetime import datetime\n",
    "import re\n",
    "\n",
    "import os\n",
    "from docx import Document\n",
    "from docx2pdf import convert\n",
    "\n",
    "import warnings\n",
    "warnings.filterwarnings('ignore')"
   ]
  },
  {
   "cell_type": "code",
   "execution_count": 2,
   "id": "75ce6267",
   "metadata": {
    "ExecuteTime": {
     "end_time": "2025-05-03T08:42:31.751598Z",
     "start_time": "2025-05-03T08:42:31.614382Z"
    }
   },
   "outputs": [],
   "source": [
    "# import the excel file for invoice information\n",
    "inv_info = pd.read_excel(\"inv_info_sample.xlsx\")"
   ]
  },
  {
   "cell_type": "code",
   "execution_count": 3,
   "id": "e1163564",
   "metadata": {
    "ExecuteTime": {
     "end_time": "2025-05-03T08:42:31.757087Z",
     "start_time": "2025-05-03T08:42:31.752447Z"
    }
   },
   "outputs": [],
   "source": [
    "# define the function of getting the invoice information, set the default sales tax rate to 10%\n",
    "def get_inv_info(inv_no, sales_tax_rate = 0.1):\n",
    "    \n",
    "    # use the information for a specific invoice\n",
    "    use_info = inv_info[inv_info['Invoice No.'] == inv_no].reset_index(drop = True)\n",
    "    item_dict = {}\n",
    "    \n",
    "    # invoice information\n",
    "    item_dict['CUSTOMER'] = use_info['Customer'].unique()[0]\n",
    "    item_dict['CUSTOMER_ADDRESS1'] = use_info['Customer Address1'].unique()[0]\n",
    "    item_dict['CUSTOMER_ADDRESS2'] = use_info['Customer Address2'].unique()[0]\n",
    "    item_dict['INV_NO'] = use_info['Invoice No.'].unique()[0]\n",
    "    item_dict['PAYMENT_TERMS'] = use_info['Payment Terms'].unique()[0]\n",
    "    item_dict['DOC_DATE'] = str(pd.to_datetime(use_info['Invoice Date'].unique()[0]).date())\n",
    "    item_dict['DUE_DATE'] = str(pd.to_datetime(use_info['Invoice Date'].unique()[0]).date() + pd.Timedelta(days=inv_info['Payment Terms'].unique()[0]))\n",
    "    item_dict['SUB_AMOUNT'] = 0\n",
    "    \n",
    "    # product information for maximal of 15 items\n",
    "    for i in range(1, 16):\n",
    "        try:\n",
    "            \n",
    "            # for non empty items, get the information\n",
    "            item_dict['ITEM' + str(i)] = use_info.loc[i-1, 'Item']\n",
    "            item_dict['DETAIL' + str(i)] = use_info.loc[i-1, 'Detail']\n",
    "            item_dict['UNITPRICE' + str(i)] = use_info.loc[i-1, 'Unit Price']\n",
    "            item_dict['QUAN' + str(i)] = use_info.loc[i-1, 'Quantity']\n",
    "            item_dict['AMT' + str(i)] = use_info.loc[i-1, 'Unit Price'] * use_info.loc[i-1, 'Quantity']\n",
    "            \n",
    "            # get the sum of subtotal\n",
    "            item_dict['SUB_AMOUNT'] += item_dict['AMT' + str(i)]\n",
    "            \n",
    "        except:\n",
    "            \n",
    "            # for empty items, input empty information\n",
    "            item_dict['ITEM' + str(i)] = \"\"\n",
    "            item_dict['DETAIL' + str(i)] = \"\"\n",
    "            item_dict['UNITPRICE' + str(i)] = \"\"\n",
    "            item_dict['QUAN' + str(i)] = \"\"\n",
    "            item_dict['AMT' + str(i)] = \"\"\n",
    "    \n",
    "    # get the tax and total amount\n",
    "    item_dict['TAX_AMOUNT'] = round(item_dict['SUB_AMOUNT'] * sales_tax_rate, 2)\n",
    "    item_dict['TOTAL_AMOUNT'] = item_dict['SUB_AMOUNT'] + item_dict['TAX_AMOUNT']\n",
    "    \n",
    "    # change all the unit price, amount to 000,000.00 format\n",
    "    for k in item_dict.keys():\n",
    "        if any(x in k for x in ('UNITPRICE', 'AMT', 'AMOUNT', 'QUAN', 'PAYMENT_TERMS')):\n",
    "            try:\n",
    "                if any(x in k for x in ('UNITPRICE', 'AMT', 'AMOUNT')):\n",
    "                    item_dict[k] = '{0:,.2f}'.format(item_dict[k])\n",
    "                else: \n",
    "                    item_dict[k] = '{0:,}'.format(item_dict[k])\n",
    "            except:\n",
    "                pass\n",
    "            \n",
    "    # return the item information\n",
    "    return item_dict"
   ]
  },
  {
   "cell_type": "code",
   "execution_count": 4,
   "id": "d2ea95b4",
   "metadata": {
    "ExecuteTime": {
     "end_time": "2025-05-03T08:42:31.759709Z",
     "start_time": "2025-05-03T08:42:31.758344Z"
    }
   },
   "outputs": [],
   "source": [
    "# def replace_text_in_doc_table(item_dict, inv_no):\n",
    "#     doc = Document('inv_template.docx')\n",
    "\n",
    "#     for table in doc.tables:\n",
    "#         for row in table.rows:\n",
    "#             for cell in row.cells:\n",
    "#                 for para in cell.paragraphs:\n",
    "#                     # 合并所有 run 的文本\n",
    "#                     full_text = ''.join([run.text for run in para.runs])\n",
    "\n",
    "#                     # 替换文本\n",
    "#                     for i in range(1, 16):\n",
    "#                         for name in ['ITEM', 'DETAIL', 'UNITPRICE', '#', '@']:\n",
    "#                             full_text = re.sub(r'\\b' + re.escape(name + str(i)) + r'\\b',\n",
    "#                                                str(item_dict.get(name + str(i), '')), full_text)\n",
    "\n",
    "#                     para.clear()\n",
    "#                     para.add_run(full_text)\n",
    "\n",
    "#     new_doc_path = inv_no + '.docx'\n",
    "#     doc.save(new_doc_path)\n",
    "\n",
    "# # 调用函数\n",
    "# replace_text_in_doc_table(item_dict, inv_no)"
   ]
  },
  {
   "cell_type": "code",
   "execution_count": 7,
   "id": "cb184fff",
   "metadata": {
    "ExecuteTime": {
     "end_time": "2025-05-03T08:42:31.767474Z",
     "start_time": "2025-05-03T08:42:31.765121Z"
    }
   },
   "outputs": [],
   "source": [
    "# # define the function of replacing the template placeholder with invoice information\n",
    "def replace_text_in_doc_table(item_dict, docx_template_name):\n",
    "    \n",
    "    # open the template docx\n",
    "    doc = Document(docx_template_name)\n",
    "    \n",
    "    # replace the placeholder in the docx for all the invoices information \n",
    "    for table in doc.tables:\n",
    "        for row in table.rows:\n",
    "            for cell in row.cells:\n",
    "                for para in cell.paragraphs:\n",
    "                    for run in para.runs:\n",
    "                        if run.text in item_dict.keys():\n",
    "                            run.text = item_dict[run.text]\n",
    "    \n",
    "    # add the docx path and docx name\n",
    "    new_doc_path = item_dict['INV_NO'] + '.docx'\n",
    "    \n",
    "    # save the docx to the docx path\n",
    "    doc.save(new_doc_path)"
   ]
  },
  {
   "cell_type": "code",
   "execution_count": 8,
   "id": "a4976d48",
   "metadata": {
    "ExecuteTime": {
     "end_time": "2025-05-03T08:42:57.439626Z",
     "start_time": "2025-05-03T08:42:31.768079Z"
    }
   },
   "outputs": [
    {
     "data": {
      "application/vnd.jupyter.widget-view+json": {
       "model_id": "ab649a56f8bd4c4da6926b4233fb4731",
       "version_major": 2,
       "version_minor": 0
      },
      "text/plain": [
       "  0%|          | 0/1 [00:00<?, ?it/s]"
      ]
     },
     "metadata": {},
     "output_type": "display_data"
    },
    {
     "name": "stdout",
     "output_type": "stream",
     "text": [
      "SAMCO_1 generated successfully!\n"
     ]
    },
    {
     "data": {
      "application/vnd.jupyter.widget-view+json": {
       "model_id": "b4d6b3d371c44835ba2a8ed773d08615",
       "version_major": 2,
       "version_minor": 0
      },
      "text/plain": [
       "  0%|          | 0/1 [00:00<?, ?it/s]"
      ]
     },
     "metadata": {},
     "output_type": "display_data"
    },
    {
     "name": "stdout",
     "output_type": "stream",
     "text": [
      "SAMCO_2 generated successfully!\n"
     ]
    },
    {
     "data": {
      "application/vnd.jupyter.widget-view+json": {
       "model_id": "ce44f5641571417d949931f7d5273182",
       "version_major": 2,
       "version_minor": 0
      },
      "text/plain": [
       "  0%|          | 0/1 [00:00<?, ?it/s]"
      ]
     },
     "metadata": {},
     "output_type": "display_data"
    },
    {
     "name": "stdout",
     "output_type": "stream",
     "text": [
      "SAMCO_3 generated successfully!\n"
     ]
    },
    {
     "data": {
      "application/vnd.jupyter.widget-view+json": {
       "model_id": "968af0f7f2e542caa5a5356be2fc03fc",
       "version_major": 2,
       "version_minor": 0
      },
      "text/plain": [
       "  0%|          | 0/1 [00:00<?, ?it/s]"
      ]
     },
     "metadata": {},
     "output_type": "display_data"
    },
    {
     "name": "stdout",
     "output_type": "stream",
     "text": [
      "SAMCO_4 generated successfully!\n"
     ]
    }
   ],
   "source": [
    "# loop the invoice no for all the invoices\n",
    "for i in inv_info['Invoice No.'].unique():\n",
    "    \n",
    "    # get the invoice information dictionary\n",
    "    item_dict = get_inv_info(i)\n",
    "    \n",
    "    # replace the invoice information in the word template\n",
    "    replace_text_in_doc_table(item_dict, 'inv_template.docx')\n",
    "    \n",
    "    # convert the docx to pdf and remove the docx\n",
    "    convert(i + \".docx\")\n",
    "    os.remove(i + \".docx\")\n",
    "    \n",
    "    # print reminder\n",
    "    print(i + \" generated successfully!\")"
   ]
  },
  {
   "cell_type": "code",
   "execution_count": null,
   "id": "79379060",
   "metadata": {},
   "outputs": [],
   "source": []
  }
 ],
 "metadata": {
  "kernelspec": {
   "display_name": "Python 3 (ipykernel)",
   "language": "python",
   "name": "python3"
  },
  "language_info": {
   "codemirror_mode": {
    "name": "ipython",
    "version": 3
   },
   "file_extension": ".py",
   "mimetype": "text/x-python",
   "name": "python",
   "nbconvert_exporter": "python",
   "pygments_lexer": "ipython3",
   "version": "3.11.6"
  }
 },
 "nbformat": 4,
 "nbformat_minor": 5
}
