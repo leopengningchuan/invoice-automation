{
 "cells": [
  {
   "cell_type": "code",
   "execution_count": null,
   "id": "00608f68",
   "metadata": {
    "ExecuteTime": {
     "end_time": "2025-05-15T12:02:33.264450Z",
     "start_time": "2025-05-15T12:02:31.142838Z"
    }
   },
   "outputs": [],
   "source": [
    "# import packages\n",
    "import pandas as pd\n",
    "from datetime import datetime\n",
    "import re\n",
    "\n",
    "from invoice_info import get_inv_info\n",
    "from utils.docx_utils import populate_docx_table\n",
    "from utils.pdf_utils import convert_docx_pdf\n",
    "\n",
    "import warnings\n",
    "warnings.filterwarnings('ignore')"
   ]
  },
  {
   "cell_type": "code",
   "execution_count": null,
   "id": "75ce6267",
   "metadata": {
    "ExecuteTime": {
     "end_time": "2025-05-15T12:02:35.221352Z",
     "start_time": "2025-05-15T12:02:34.961986Z"
    }
   },
   "outputs": [],
   "source": [
    "# import the excel file for invoice information\n",
    "folder_path = 'assets/'\n",
    "inv_info = pd.read_excel(folder_path + \"inv_info_sample.xlsx\")"
   ]
  },
  {
   "cell_type": "code",
   "execution_count": null,
   "id": "a4976d48",
   "metadata": {
    "ExecuteTime": {
     "end_time": "2025-05-15T12:03:33.557018Z",
     "start_time": "2025-05-15T12:02:58.494011Z"
    }
   },
   "outputs": [],
   "source": [
    "# loop the invoice no for all the invoices\n",
    "for inv_no in inv_info['Invoice No.'].unique():\n",
    "    \n",
    "    # get the invoice information dictionary\n",
    "    item_dict = get_inv_info(inv_info, inv_no)\n",
    "    \n",
    "    # replace the invoice information in the word template\n",
    "    populate_docx_table(item_dict, folder_path + 'invoice_format_sample.docx', folder_path + item_dict['INV_NO'] + '.docx')\n",
    "    \n",
    "    # convert the docx to pdf and remove the docx\n",
    "    convert_docx_pdf(folder_path + item_dict['INV_NO'] + '.docx', keep = False)"
   ]
  },
  {
   "cell_type": "code",
   "execution_count": null,
   "id": "b19e8e50-a7a2-4069-8872-8d81f65364b0",
   "metadata": {},
   "outputs": [],
   "source": []
  }
 ],
 "metadata": {
  "kernelspec": {
   "display_name": "Python 3 (ipykernel)",
   "language": "python",
   "name": "python3"
  },
  "language_info": {
   "codemirror_mode": {
    "name": "ipython",
    "version": 3
   },
   "file_extension": ".py",
   "mimetype": "text/x-python",
   "name": "python",
   "nbconvert_exporter": "python",
   "pygments_lexer": "ipython3",
   "version": "3.12.7"
  }
 },
 "nbformat": 4,
 "nbformat_minor": 5
}
